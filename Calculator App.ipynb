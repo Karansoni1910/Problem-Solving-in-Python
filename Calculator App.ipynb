{
 "cells": [
  {
   "cell_type": "code",
   "execution_count": 8,
   "metadata": {},
   "outputs": [
    {
     "name": "stdout",
     "output_type": "stream",
     "text": [
      "Welcome to Calculator App!\n",
      "Enter 2 numbers and operation to perform on them...\n",
      "Enter the first number: 45\n",
      "Enter the second number: 0\n",
      "Enter the operation: (add/subtract/divide/multiply/exponential) \n",
      "egdjdth\n",
      "1\n"
     ]
    }
   ],
   "source": [
    "print(\"Welcome to Calculator App!\")\n",
    "print(\"Enter 2 numbers and operation to perform on them...\")\n",
    "n1=int(input(\"Enter the first number: \"))\n",
    "n2=int(input(\"Enter the second number: \"))\n",
    "def add(n1,n2):\n",
    "    print(n1+n2)\n",
    "def subtract(n1,n2):\n",
    "    print(n1-n2)\n",
    "def multiply(n1,n2):\n",
    "    print(n1*n2)\n",
    "def divide(n1,n2):\n",
    "    if n2==0:\n",
    "        print(\"Division by 0 is not possible!!!\")\n",
    "    else:\n",
    "        print(n1/n2)\n",
    "def exponential(n1,n2):\n",
    "    print(n1**n2)\n",
    "choice=input(\"Enter the operation: (add/subtract/divide/multiply/exponential) \\n\").lower()\n",
    "if choice.startswith('a'):\n",
    "    add(n1,n2)\n",
    "if choice.startswith('s'):\n",
    "    subtract(n1,n2)\n",
    "if choice.startswith('m'):\n",
    "    multiply(n1,n2)\n",
    "if choice.startswith('d'):\n",
    "    divide(n1,n2)\n",
    "if choice.startswith('e'):\n",
    "    exponential(n1,n2)"
   ]
  },
  {
   "cell_type": "code",
   "execution_count": null,
   "metadata": {},
   "outputs": [],
   "source": []
  }
 ],
 "metadata": {
  "kernelspec": {
   "display_name": "Python 3",
   "language": "python",
   "name": "python3"
  },
  "language_info": {
   "codemirror_mode": {
    "name": "ipython",
    "version": 3
   },
   "file_extension": ".py",
   "mimetype": "text/x-python",
   "name": "python",
   "nbconvert_exporter": "python",
   "pygments_lexer": "ipython3",
   "version": "3.7.6"
  }
 },
 "nbformat": 4,
 "nbformat_minor": 4
}

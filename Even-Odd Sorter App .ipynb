{
 "cells": [
  {
   "cell_type": "code",
   "execution_count": 1,
   "metadata": {},
   "outputs": [
    {
     "name": "stdout",
     "output_type": "stream",
     "text": [
      "Welcome to Even-Odd Sorter App \n",
      "34,4567,569658,46835734,246537,243634,346346,658415,68465415\n",
      "34 is even\n",
      "4567 is odd\n",
      "569658 is even\n",
      "46835734 is even\n",
      "246537 is odd\n",
      "243634 is even\n",
      "346346 is even\n",
      "658415 is odd\n",
      "68465415 is odd\n",
      "The following 5 are even numbers:\n",
      "\n",
      "34\n",
      "569658\n",
      "46835734\n",
      "243634\n",
      "346346\n",
      "The following 4 are odd numbers:\n",
      "\n",
      "4567\n",
      "246537\n",
      "658415\n",
      "68465415\n"
     ]
    }
   ],
   "source": [
    "print(\"Welcome to Even-Odd Sorter App \")\n",
    "a=[int(i) for i in input().split(',')]\n",
    "b=a\n",
    "i=0\n",
    "e=[]\n",
    "o=[]\n",
    "while i!=len(a):\n",
    "    if a[i]%2==0:\n",
    "        print(f\"{a[i]} is even\")\n",
    "        e.append(a[i])\n",
    "    else:\n",
    "        print(f\"{a[i]} is odd\")\n",
    "        o.append(a[i])\n",
    "    i+=1  \n",
    "print(f\"The following {len(e)} are even numbers:\\n\")\n",
    "for i in e:\n",
    "    print(i)\n",
    "print(f\"The following {len(o)} are odd numbers:\\n\")\n",
    "for i in o:\n",
    "    print(i)"
   ]
  },
  {
   "cell_type": "code",
   "execution_count": null,
   "metadata": {},
   "outputs": [],
   "source": []
  }
 ],
 "metadata": {
  "kernelspec": {
   "display_name": "Python 3",
   "language": "python",
   "name": "python3"
  },
  "language_info": {
   "codemirror_mode": {
    "name": "ipython",
    "version": 3
   },
   "file_extension": ".py",
   "mimetype": "text/x-python",
   "name": "python",
   "nbconvert_exporter": "python",
   "pygments_lexer": "ipython3",
   "version": "3.7.6"
  }
 },
 "nbformat": 4,
 "nbformat_minor": 4
}

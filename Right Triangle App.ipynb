{
 "cells": [
  {
   "cell_type": "code",
   "execution_count": 6,
   "metadata": {},
   "outputs": [
    {
     "name": "stdout",
     "output_type": "stream",
     "text": [
      "Welcome to Right Triangle App!\n",
      "Enter the altitude of the triangle: 3\n",
      "Enter the base of the triangle: 4\n",
      "The Hypotenuse of the triangle is 5.0\n",
      "The area of the triangle is 6.0\n"
     ]
    }
   ],
   "source": [
    "import numpy as np\n",
    "print(\"Welcome to Right Triangle App!\")\n",
    "a=float(input(\"Enter the altitude of the triangle: \"))\n",
    "b=float(input(\"Enter the base of the triangle: \"))\n",
    "print(f\"The Hypotenuse of the triangle is {np.sqrt(a**2 + b**2)}\\nThe area of the triangle is {a*b/2}\")"
   ]
  },
  {
   "cell_type": "code",
   "execution_count": null,
   "metadata": {},
   "outputs": [],
   "source": []
  }
 ],
 "metadata": {
  "kernelspec": {
   "display_name": "Python 3",
   "language": "python",
   "name": "python3"
  },
  "language_info": {
   "codemirror_mode": {
    "name": "ipython",
    "version": 3
   },
   "file_extension": ".py",
   "mimetype": "text/x-python",
   "name": "python",
   "nbconvert_exporter": "python",
   "pygments_lexer": "ipython3",
   "version": "3.7.6"
  }
 },
 "nbformat": 4,
 "nbformat_minor": 4
}

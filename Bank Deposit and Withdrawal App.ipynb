{
 "cells": [
  {
   "cell_type": "code",
   "execution_count": 7,
   "metadata": {},
   "outputs": [
    {
     "name": "stdout",
     "output_type": "stream",
     "text": [
      "Welcome to Bank Deposit and Withdrawal App! \n",
      "Enter your name: karan\n",
      "Enter the amount in savings account: $40000\n",
      "Enter the amount in checking account: $50000\n",
      "Name : Karan\n",
      "Savings Amount : 40000\n",
      "Checking Amount : 50000\n",
      "What would you Like to access? (savings/checking) savind\n",
      "What would you like to do? (deposit/withdrawal) dgsgsdgdt\n",
      "Enter the amount you wanna deposit: 60000\n",
      "Name : Karan\n",
      "Savings Amount : 100000\n",
      "Checking Amount : 50000\n"
     ]
    }
   ],
   "source": [
    "print(\"Welcome to Bank Deposit and Withdrawal App! \")\n",
    "name=input(\"Enter your name: \").title()\n",
    "savings_amount=int(input(\"Enter the amount in savings account: $\"))\n",
    "checking_amount=int(input(\"Enter the amount in checking account: $\"))\n",
    "def get_info(name,savings_amount,checking_amount):\n",
    "    info={'Name':name,'Savings Amount':savings_amount,'Checking Amount':checking_amount}\n",
    "    return info \n",
    "user_details=get_info(name,savings_amount,checking_amount)\n",
    "for i,j in user_details.items():\n",
    "        print(f\"{i} : {j}\")\n",
    "def savings():\n",
    "    choice=input(\"What would you like to do? (deposit/withdrawal) \").lower()\n",
    "    if choice.startswith('d'):\n",
    "        amount=int(input(\"Enter the amount you wanna deposit: \"))\n",
    "        user_details['Savings Amount']+=amount\n",
    "    if choice.startswith('w'):\n",
    "        amount=int(input(\"Enter the amount you wanna withdraw: \"))\n",
    "        if amount>user_details['Savings Amount']:\n",
    "            print(\"You cannot have -ve amount or credit in your bank.\")\n",
    "        else:\n",
    "            user_details['Savings Amount']-=amount\n",
    "def checking():\n",
    "    choice=input(\"What would you like to do? (deposit/withdrawal) \").lower()\n",
    "    if choice.startswith('d'):\n",
    "        amount=int(input(\"Enter the amount you wanna deposit: \"))\n",
    "        user_details['Checking Amount']+=amount\n",
    "    if choice.startswith('w'):\n",
    "        amount=int(input(\"Enter the amount you wanna withdraw: \"))\n",
    "        if amount>user_details['Checking Amount']:\n",
    "            print(\"You cannot have -ve amount or credit in your bank.\")\n",
    "        else:\n",
    "            user_details['Checking Amount']-=amount\n",
    "choice=input(\"What would you Like to access? (savings/checking) \").lower()\n",
    "if choice.startswith('s'):\n",
    "    savings()\n",
    "    for i,j in user_details.items():\n",
    "        print(f\"{i} : {j}\")\n",
    "if choice.startswith('c'):\n",
    "    checking()\n",
    "    for i,j in user_details.items():\n",
    "        print(f\"{i} : {j}\")"
   ]
  },
  {
   "cell_type": "code",
   "execution_count": null,
   "metadata": {},
   "outputs": [],
   "source": []
  }
 ],
 "metadata": {
  "kernelspec": {
   "display_name": "Python 3",
   "language": "python",
   "name": "python3"
  },
  "language_info": {
   "codemirror_mode": {
    "name": "ipython",
    "version": 3
   },
   "file_extension": ".py",
   "mimetype": "text/x-python",
   "name": "python",
   "nbconvert_exporter": "python",
   "pygments_lexer": "ipython3",
   "version": "3.7.6"
  }
 },
 "nbformat": 4,
 "nbformat_minor": 4
}

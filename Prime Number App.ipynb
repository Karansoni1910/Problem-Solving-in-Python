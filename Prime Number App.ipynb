{
 "cells": [
  {
   "cell_type": "code",
   "execution_count": 1,
   "metadata": {},
   "outputs": [
    {
     "name": "stdout",
     "output_type": "stream",
     "text": [
      "Welcome to Prime Number App\n",
      "Enter a choice\n",
      " 1 for checking a prime number \n",
      " 2 for getting prime numbers in a range:\n",
      "1\n",
      "Enter a number: 5\n",
      "5 is a prime number.\n",
      "5 is a prime number.\n",
      "5 is a prime number.\n"
     ]
    }
   ],
   "source": [
    "print(\"Welcome to Prime Number App\")\n",
    "choice=int(input(\"Enter a choice\\n 1 for checking a prime number \\n 2 for getting prime numbers in a range:\\n\"))\n",
    "if choice==1:\n",
    "    n=int(input(\"Enter a number: \"))\n",
    "    prime_status=True\n",
    "    for i in range(2,n):\n",
    "        if n%i==0:\n",
    "            prime_status=False\n",
    "    if prime_status:\n",
    "        print(str(n)+\" is a prime number.\")\n",
    "        print(f\"{n} is a prime number.\")\n",
    "        print(\"{} is a prime number.\".format(n))\n",
    "    else:\n",
    "        print(str(n)+\" is not a prime number.\")\n",
    "if choice==2:\n",
    "    n1=int(input(\"Enter a lower bound value: \"))\n",
    "    n2=int(input(\"Enter an upper bound value: \"))\n",
    "    if n1>=n2:\n",
    "        print(\"Invalid Input!!! \\n Try again...\")\n",
    "        n1=int(input(\"Enter a lower bound value: \"))\n",
    "        n2=int(input(\"Enter an upper bound value: \"))\n",
    "    while n1!=n2:\n",
    "        prime_status=True\n",
    "        for i in range(2,n1):\n",
    "            if n1%i==0:\n",
    "                prime_status=False\n",
    "        if prime_status:\n",
    "            print(str(n1)+\" is a prime number.\")\n",
    "        n1+=1"
   ]
  },
  {
   "cell_type": "code",
   "execution_count": null,
   "metadata": {},
   "outputs": [],
   "source": []
  }
 ],
 "metadata": {
  "kernelspec": {
   "display_name": "Python 3",
   "language": "python",
   "name": "python3"
  },
  "language_info": {
   "codemirror_mode": {
    "name": "ipython",
    "version": 3
   },
   "file_extension": ".py",
   "mimetype": "text/x-python",
   "name": "python",
   "nbconvert_exporter": "python",
   "pygments_lexer": "ipython3",
   "version": "3.7.6"
  }
 },
 "nbformat": 4,
 "nbformat_minor": 4
}

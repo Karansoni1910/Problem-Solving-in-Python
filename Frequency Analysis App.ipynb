{
 "cells": [
  {
   "cell_type": "code",
   "execution_count": 3,
   "metadata": {},
   "outputs": [
    {
     "name": "stdout",
     "output_type": "stream",
     "text": [
      "Enter a word or a phrase:  hgvdftyrsd76576587\n",
      "Letter  Occurrence Percentage\n",
      "h\t1\t   10.0%\n",
      "g\t1\t   10.0%\n",
      "v\t1\t   10.0%\n",
      "d\t2\t   20.0%\n",
      "f\t1\t   10.0%\n",
      "t\t1\t   10.0%\n",
      "y\t1\t   10.0%\n",
      "r\t1\t   10.0%\n",
      "s\t1\t   10.0%\n",
      "[('d', 2), ('h', 1), ('g', 1), ('v', 1), ('f', 1), ('t', 1), ('y', 1), ('r', 1), ('s', 1)]\n",
      "dhgvftyrs"
     ]
    }
   ],
   "source": [
    "from collections import Counter\n",
    "key_phrase=input(\"Enter a word or a phrase:  \")\n",
    "nl=['1','2','3','4','5','6','7','8','9','0',' ','!','@','#','$','%','^','&','*','(',')','\"\"'\n",
    "   ,'?','_','.',',']\n",
    "for i in nl:\n",
    "    key_phrase=key_phrase.replace(i,'')\n",
    "total=len(key_phrase)\n",
    "lc=Counter(key_phrase)\n",
    "print(\"Letter  Occurrence Percentage\")\n",
    "for i,j in lc.items():\n",
    "    print(i+\"\\t\"+str(j)+\"\\t   \"+str(j*100/total)+\"%\")\n",
    "olc=lc.most_common()\n",
    "print(olc)\n",
    "kpol=[]\n",
    "for i in olc:\n",
    "    kpol.append(i[0])\n",
    "for i in kpol:\n",
    "    print(i,end='')"
   ]
  },
  {
   "cell_type": "code",
   "execution_count": null,
   "metadata": {},
   "outputs": [],
   "source": []
  }
 ],
 "metadata": {
  "kernelspec": {
   "display_name": "Python 3",
   "language": "python",
   "name": "python3"
  },
  "language_info": {
   "codemirror_mode": {
    "name": "ipython",
    "version": 3
   },
   "file_extension": ".py",
   "mimetype": "text/x-python",
   "name": "python",
   "nbconvert_exporter": "python",
   "pygments_lexer": "ipython3",
   "version": "3.7.6"
  }
 },
 "nbformat": 4,
 "nbformat_minor": 4
}

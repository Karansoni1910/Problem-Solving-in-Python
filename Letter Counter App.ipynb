{
 "cells": [
  {
   "cell_type": "code",
   "execution_count": 2,
   "metadata": {},
   "outputs": [
    {
     "name": "stdout",
     "output_type": "stream",
     "text": [
      "Welcome to Letter Counter App!\n",
      "Enter Your name: karagkldhgadk\n",
      "Enter the phrase: gareyfdgnfitghfsyseysdgsyey\n",
      "Enter the letter you wanna count: g\n",
      "Hi Karagkldhgadk \n",
      "Your phrase has 4 g's in it.\n"
     ]
    }
   ],
   "source": [
    "print(\"Welcome to Letter Counter App!\")\n",
    "name=input(\"Enter Your name: \")\n",
    "phrase=input(\"Enter the phrase: \")\n",
    "letter=input(\"Enter the letter you wanna count: \")\n",
    "print(f\"Hi {name.title()} \\nYour phrase has {phrase.count(letter)} {letter}'s in it.\")"
   ]
  },
  {
   "cell_type": "code",
   "execution_count": null,
   "metadata": {},
   "outputs": [],
   "source": []
  }
 ],
 "metadata": {
  "kernelspec": {
   "display_name": "Python 3",
   "language": "python",
   "name": "python3"
  },
  "language_info": {
   "codemirror_mode": {
    "name": "ipython",
    "version": 3
   },
   "file_extension": ".py",
   "mimetype": "text/x-python",
   "name": "python",
   "nbconvert_exporter": "python",
   "pygments_lexer": "ipython3",
   "version": "3.7.6"
  }
 },
 "nbformat": 4,
 "nbformat_minor": 4
}

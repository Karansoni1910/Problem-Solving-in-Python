{
 "cells": [
  {
   "cell_type": "code",
   "execution_count": 3,
   "metadata": {},
   "outputs": [
    {
     "name": "stdout",
     "output_type": "stream",
     "text": [
      "Welcome to Temperature Converter App!\n",
      "Enter the temperature in fahrenheit: 212.52\n",
      "Degree Fahrenheit: \t212.52 \n",
      "Degree Celsius: \t100.2889 \n",
      "Degree Kelvin: \t\t373.2889\n"
     ]
    }
   ],
   "source": [
    "print(\"Welcome to Temperature Converter App!\")\n",
    "f_temp=float(input(\"Enter the temperature in fahrenheit: \"))\n",
    "print(f\"Degree Fahrenheit: \\t{f_temp} \\nDegree Celsius: \\t{round((f_temp-32)*5/9,4)} \\nDegree Kelvin: \\t\\t{round((f_temp-32)*5/9 +273,4)}\")"
   ]
  },
  {
   "cell_type": "code",
   "execution_count": null,
   "metadata": {},
   "outputs": [],
   "source": []
  }
 ],
 "metadata": {
  "kernelspec": {
   "display_name": "Python 3",
   "language": "python",
   "name": "python3"
  },
  "language_info": {
   "codemirror_mode": {
    "name": "ipython",
    "version": 3
   },
   "file_extension": ".py",
   "mimetype": "text/x-python",
   "name": "python",
   "nbconvert_exporter": "python",
   "pygments_lexer": "ipython3",
   "version": "3.7.6"
  }
 },
 "nbformat": 4,
 "nbformat_minor": 4
}

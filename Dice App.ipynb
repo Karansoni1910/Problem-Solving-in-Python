{
 "cells": [
  {
   "cell_type": "code",
   "execution_count": 7,
   "metadata": {},
   "outputs": [
    {
     "name": "stdout",
     "output_type": "stream",
     "text": [
      "Welcome to the Dice App!\n",
      "Enter the number of sides you want in a dice: 6\n",
      "How many times do you wanna roll the dice ?5\n",
      "1\n",
      "4\n",
      "5\n",
      "1\n",
      "5\n",
      "16\n"
     ]
    }
   ],
   "source": [
    "import random as rd\n",
    "print(\"Welcome to the Dice App!\")\n",
    "num=int(input(\"Enter the number of sides you want in a dice: \"))\n",
    "rolls=int(input(\"How many times do you wanna roll the dice ?\"))\n",
    "def dice(n,m):\n",
    "    sum_number=0\n",
    "    for i in range(m):\n",
    "        number=rd.randint(1,n)\n",
    "        print(number)\n",
    "        sum_number+=number\n",
    "    print(sum_number)\n",
    "dice(num,rolls)"
   ]
  },
  {
   "cell_type": "code",
   "execution_count": null,
   "metadata": {},
   "outputs": [],
   "source": []
  }
 ],
 "metadata": {
  "kernelspec": {
   "display_name": "Python 3",
   "language": "python",
   "name": "python3"
  },
  "language_info": {
   "codemirror_mode": {
    "name": "ipython",
    "version": 3
   },
   "file_extension": ".py",
   "mimetype": "text/x-python",
   "name": "python",
   "nbconvert_exporter": "python",
   "pygments_lexer": "ipython3",
   "version": "3.7.6"
  }
 },
 "nbformat": 4,
 "nbformat_minor": 4
}

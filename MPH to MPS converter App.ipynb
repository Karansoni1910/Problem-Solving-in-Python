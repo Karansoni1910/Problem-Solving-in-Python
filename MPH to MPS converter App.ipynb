{
 "cells": [
  {
   "cell_type": "code",
   "execution_count": 3,
   "metadata": {},
   "outputs": [
    {
     "name": "stdout",
     "output_type": "stream",
     "text": [
      "Welcome to MPH to MPS converter App!\n",
      "Enter your value in miles per hour format: 56.346248\n",
      "the value of 56.346248 MPH in metres per second is 1510.64 MPS.\n"
     ]
    }
   ],
   "source": [
    "print(\"Welcome to MPH to MPS converter App!\")\n",
    "mph=float(input(\"Enter your value in miles per hour format: \"))\n",
    "print(f\"the value of {mph} MPH in metres per second is {round(26.81*mph,2)} MPS.\")"
   ]
  },
  {
   "cell_type": "code",
   "execution_count": null,
   "metadata": {},
   "outputs": [],
   "source": []
  }
 ],
 "metadata": {
  "kernelspec": {
   "display_name": "Python 3",
   "language": "python",
   "name": "python3"
  },
  "language_info": {
   "codemirror_mode": {
    "name": "ipython",
    "version": 3
   },
   "file_extension": ".py",
   "mimetype": "text/x-python",
   "name": "python",
   "nbconvert_exporter": "python",
   "pygments_lexer": "ipython3",
   "version": "3.7.6"
  }
 },
 "nbformat": 4,
 "nbformat_minor": 4
}

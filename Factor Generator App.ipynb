{
 "cells": [
  {
   "cell_type": "code",
   "execution_count": 1,
   "metadata": {},
   "outputs": [
    {
     "name": "stdout",
     "output_type": "stream",
     "text": [
      "Welcome to Factor Generator App\n",
      "Enter a number to generate a factor: 35\n",
      "1\n",
      "5\n",
      "7\n",
      "35\n",
      "Factor Summary:-\n",
      "\n",
      "1*35=35\n",
      "5*7=35\n"
     ]
    }
   ],
   "source": [
    "print(\"Welcome to Factor Generator App\")\n",
    "num=int(input(\"Enter a number to generate a factor: \"))\n",
    "n=1\n",
    "factors=[]\n",
    "while n!=num+1:\n",
    "    if num%n==0:\n",
    "        print(n)\n",
    "        factors.append(n)\n",
    "    n+=1\n",
    "\n",
    "m=len(factors)\n",
    "i=0\n",
    "print(\"Factor Summary:-\\n\")\n",
    "while i!=m/2:\n",
    "    print(f\"{factors[i]}*{factors[-i-1]}={num}\")\n",
    "    i+=1"
   ]
  },
  {
   "cell_type": "code",
   "execution_count": null,
   "metadata": {},
   "outputs": [],
   "source": []
  }
 ],
 "metadata": {
  "kernelspec": {
   "display_name": "Python 3",
   "language": "python",
   "name": "python3"
  },
  "language_info": {
   "codemirror_mode": {
    "name": "ipython",
    "version": 3
   },
   "file_extension": ".py",
   "mimetype": "text/x-python",
   "name": "python",
   "nbconvert_exporter": "python",
   "pygments_lexer": "ipython3",
   "version": "3.7.6"
  }
 },
 "nbformat": 4,
 "nbformat_minor": 4
}

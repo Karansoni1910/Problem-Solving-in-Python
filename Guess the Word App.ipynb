{
 "cells": [
  {
   "cell_type": "code",
   "execution_count": null,
   "metadata": {},
   "outputs": [],
   "source": [
    "import random\n",
    "print(\"Welcome to Guess the Word App.\")\n",
    "words={'Sports':['football','cricket','ronaldo','tennis'],\n",
    "       'Fruits':['banana','apple','strawberry','watermelon']}\n",
    "m=random.randint(0,1)\n",
    "n=random.randint(0,2)\n",
    "key_list=list(words.keys())\n",
    "category=key_list[m]\n",
    "value_list=list(words.values())\n",
    "word=value_list[m][n]\n",
    "print(f\"guess {len(word)} letter word from the following category: {category} \\n {'-'*len(word)}\")\n",
    "guess=input(\"Enter the word: \")\n",
    "wl=len(word)\n",
    "revealed=[]\n",
    "for i in range(wl):\n",
    "    if guess==word:\n",
    "        print(\"You guessed the right word!!!\")\n",
    "        break\n",
    "    else:\n",
    "        index=random.randint(0,wl-1)\n",
    "        while index in revealed:\n",
    "            index = random.randint(0, wl - 1)\n",
    "        revealed.append(index)\n",
    "\n",
    "        hint=''\n",
    "        for i in range(wl):\n",
    "            if i not in revealed:\n",
    "                hint+='-'\n",
    "            else:\n",
    "                hint+=word[i]\n",
    "        print(f\"Let us reveal one letter for you...\\n {hint}\")\n",
    "        guess=input(\"Enter the word: \")"
   ]
  },
  {
   "cell_type": "raw",
   "metadata": {},
   "source": []
  }
 ],
 "metadata": {
  "kernelspec": {
   "display_name": "Python 3",
   "language": "python",
   "name": "python3"
  },
  "language_info": {
   "codemirror_mode": {
    "name": "ipython",
    "version": 3
   },
   "file_extension": ".py",
   "mimetype": "text/x-python",
   "name": "python",
   "nbconvert_exporter": "python",
   "pygments_lexer": "ipython3",
   "version": "3.7.6"
  }
 },
 "nbformat": 4,
 "nbformat_minor": 4
}
